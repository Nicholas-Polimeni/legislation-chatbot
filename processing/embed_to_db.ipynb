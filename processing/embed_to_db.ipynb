{
 "cells": [
  {
   "cell_type": "code",
   "execution_count": 8,
   "metadata": {},
   "outputs": [
    {
     "name": "stdout",
     "output_type": "stream",
     "text": [
      "Requirement already satisfied: langchain in /Users/fdurrani/LocalGitHub/legislation_llm/.venv/lib/python3.9/site-packages (0.0.338)\n",
      "Requirement already satisfied: sentence_transformers in /Users/fdurrani/LocalGitHub/legislation_llm/.venv/lib/python3.9/site-packages (2.2.2)\n",
      "Requirement already satisfied: PyYAML>=5.3 in /Users/fdurrani/LocalGitHub/legislation_llm/.venv/lib/python3.9/site-packages (from langchain) (6.0.1)\n",
      "Requirement already satisfied: SQLAlchemy<3,>=1.4 in /Users/fdurrani/LocalGitHub/legislation_llm/.venv/lib/python3.9/site-packages (from langchain) (2.0.23)\n",
      "Requirement already satisfied: aiohttp<4.0.0,>=3.8.3 in /Users/fdurrani/LocalGitHub/legislation_llm/.venv/lib/python3.9/site-packages (from langchain) (3.9.0)\n",
      "Requirement already satisfied: anyio<4.0 in /Users/fdurrani/LocalGitHub/legislation_llm/.venv/lib/python3.9/site-packages (from langchain) (3.7.1)\n",
      "Requirement already satisfied: async-timeout<5.0.0,>=4.0.0 in /Users/fdurrani/LocalGitHub/legislation_llm/.venv/lib/python3.9/site-packages (from langchain) (4.0.3)\n",
      "Requirement already satisfied: dataclasses-json<0.7,>=0.5.7 in /Users/fdurrani/LocalGitHub/legislation_llm/.venv/lib/python3.9/site-packages (from langchain) (0.6.2)\n",
      "Requirement already satisfied: jsonpatch<2.0,>=1.33 in /Users/fdurrani/LocalGitHub/legislation_llm/.venv/lib/python3.9/site-packages (from langchain) (1.33)\n",
      "Requirement already satisfied: langsmith<0.1.0,>=0.0.63 in /Users/fdurrani/LocalGitHub/legislation_llm/.venv/lib/python3.9/site-packages (from langchain) (0.0.65)\n",
      "Requirement already satisfied: numpy<2,>=1 in /Users/fdurrani/LocalGitHub/legislation_llm/.venv/lib/python3.9/site-packages (from langchain) (1.26.2)\n",
      "Requirement already satisfied: pydantic<3,>=1 in /Users/fdurrani/LocalGitHub/legislation_llm/.venv/lib/python3.9/site-packages (from langchain) (2.5.1)\n",
      "Requirement already satisfied: requests<3,>=2 in /Users/fdurrani/LocalGitHub/legislation_llm/.venv/lib/python3.9/site-packages (from langchain) (2.31.0)\n",
      "Requirement already satisfied: tenacity<9.0.0,>=8.1.0 in /Users/fdurrani/LocalGitHub/legislation_llm/.venv/lib/python3.9/site-packages (from langchain) (8.2.3)\n",
      "Requirement already satisfied: transformers<5.0.0,>=4.6.0 in /Users/fdurrani/LocalGitHub/legislation_llm/.venv/lib/python3.9/site-packages (from sentence_transformers) (4.35.2)\n",
      "Requirement already satisfied: tqdm in /Users/fdurrani/LocalGitHub/legislation_llm/.venv/lib/python3.9/site-packages (from sentence_transformers) (4.66.1)\n",
      "Requirement already satisfied: torch>=1.6.0 in /Users/fdurrani/LocalGitHub/legislation_llm/.venv/lib/python3.9/site-packages (from sentence_transformers) (2.1.1)\n",
      "Requirement already satisfied: torchvision in /Users/fdurrani/LocalGitHub/legislation_llm/.venv/lib/python3.9/site-packages (from sentence_transformers) (0.16.1)\n",
      "Requirement already satisfied: scikit-learn in /Users/fdurrani/LocalGitHub/legislation_llm/.venv/lib/python3.9/site-packages (from sentence_transformers) (1.3.2)\n",
      "Requirement already satisfied: scipy in /Users/fdurrani/LocalGitHub/legislation_llm/.venv/lib/python3.9/site-packages (from sentence_transformers) (1.11.4)\n",
      "Requirement already satisfied: nltk in /Users/fdurrani/LocalGitHub/legislation_llm/.venv/lib/python3.9/site-packages (from sentence_transformers) (3.8.1)\n",
      "Requirement already satisfied: sentencepiece in /Users/fdurrani/LocalGitHub/legislation_llm/.venv/lib/python3.9/site-packages (from sentence_transformers) (0.1.99)\n",
      "Requirement already satisfied: huggingface-hub>=0.4.0 in /Users/fdurrani/LocalGitHub/legislation_llm/.venv/lib/python3.9/site-packages (from sentence_transformers) (0.19.4)\n",
      "Requirement already satisfied: attrs>=17.3.0 in /Users/fdurrani/LocalGitHub/legislation_llm/.venv/lib/python3.9/site-packages (from aiohttp<4.0.0,>=3.8.3->langchain) (23.1.0)\n",
      "Requirement already satisfied: multidict<7.0,>=4.5 in /Users/fdurrani/LocalGitHub/legislation_llm/.venv/lib/python3.9/site-packages (from aiohttp<4.0.0,>=3.8.3->langchain) (6.0.4)\n",
      "Requirement already satisfied: yarl<2.0,>=1.0 in /Users/fdurrani/LocalGitHub/legislation_llm/.venv/lib/python3.9/site-packages (from aiohttp<4.0.0,>=3.8.3->langchain) (1.9.2)\n",
      "Requirement already satisfied: frozenlist>=1.1.1 in /Users/fdurrani/LocalGitHub/legislation_llm/.venv/lib/python3.9/site-packages (from aiohttp<4.0.0,>=3.8.3->langchain) (1.4.0)\n",
      "Requirement already satisfied: aiosignal>=1.1.2 in /Users/fdurrani/LocalGitHub/legislation_llm/.venv/lib/python3.9/site-packages (from aiohttp<4.0.0,>=3.8.3->langchain) (1.3.1)\n",
      "Requirement already satisfied: idna>=2.8 in /Users/fdurrani/LocalGitHub/legislation_llm/.venv/lib/python3.9/site-packages (from anyio<4.0->langchain) (3.4)\n",
      "Requirement already satisfied: sniffio>=1.1 in /Users/fdurrani/LocalGitHub/legislation_llm/.venv/lib/python3.9/site-packages (from anyio<4.0->langchain) (1.3.0)\n",
      "Requirement already satisfied: exceptiongroup in /Users/fdurrani/LocalGitHub/legislation_llm/.venv/lib/python3.9/site-packages (from anyio<4.0->langchain) (1.1.3)\n",
      "Requirement already satisfied: marshmallow<4.0.0,>=3.18.0 in /Users/fdurrani/LocalGitHub/legislation_llm/.venv/lib/python3.9/site-packages (from dataclasses-json<0.7,>=0.5.7->langchain) (3.20.1)\n",
      "Requirement already satisfied: typing-inspect<1,>=0.4.0 in /Users/fdurrani/LocalGitHub/legislation_llm/.venv/lib/python3.9/site-packages (from dataclasses-json<0.7,>=0.5.7->langchain) (0.9.0)\n",
      "Requirement already satisfied: filelock in /Users/fdurrani/LocalGitHub/legislation_llm/.venv/lib/python3.9/site-packages (from huggingface-hub>=0.4.0->sentence_transformers) (3.13.1)\n",
      "Requirement already satisfied: fsspec>=2023.5.0 in /Users/fdurrani/LocalGitHub/legislation_llm/.venv/lib/python3.9/site-packages (from huggingface-hub>=0.4.0->sentence_transformers) (2023.10.0)\n",
      "Requirement already satisfied: typing-extensions>=3.7.4.3 in /Users/fdurrani/LocalGitHub/legislation_llm/.venv/lib/python3.9/site-packages (from huggingface-hub>=0.4.0->sentence_transformers) (4.8.0)\n",
      "Requirement already satisfied: packaging>=20.9 in /Users/fdurrani/LocalGitHub/legislation_llm/.venv/lib/python3.9/site-packages (from huggingface-hub>=0.4.0->sentence_transformers) (23.2)\n",
      "Requirement already satisfied: jsonpointer>=1.9 in /Users/fdurrani/LocalGitHub/legislation_llm/.venv/lib/python3.9/site-packages (from jsonpatch<2.0,>=1.33->langchain) (2.4)\n",
      "Requirement already satisfied: annotated-types>=0.4.0 in /Users/fdurrani/LocalGitHub/legislation_llm/.venv/lib/python3.9/site-packages (from pydantic<3,>=1->langchain) (0.6.0)\n",
      "Requirement already satisfied: pydantic-core==2.14.3 in /Users/fdurrani/LocalGitHub/legislation_llm/.venv/lib/python3.9/site-packages (from pydantic<3,>=1->langchain) (2.14.3)\n",
      "Requirement already satisfied: charset-normalizer<4,>=2 in /Users/fdurrani/LocalGitHub/legislation_llm/.venv/lib/python3.9/site-packages (from requests<3,>=2->langchain) (3.3.2)\n",
      "Requirement already satisfied: urllib3<3,>=1.21.1 in /Users/fdurrani/LocalGitHub/legislation_llm/.venv/lib/python3.9/site-packages (from requests<3,>=2->langchain) (2.1.0)\n",
      "Requirement already satisfied: certifi>=2017.4.17 in /Users/fdurrani/LocalGitHub/legislation_llm/.venv/lib/python3.9/site-packages (from requests<3,>=2->langchain) (2023.11.17)\n",
      "Requirement already satisfied: sympy in /Users/fdurrani/LocalGitHub/legislation_llm/.venv/lib/python3.9/site-packages (from torch>=1.6.0->sentence_transformers) (1.12)\n",
      "Requirement already satisfied: networkx in /Users/fdurrani/LocalGitHub/legislation_llm/.venv/lib/python3.9/site-packages (from torch>=1.6.0->sentence_transformers) (3.2.1)\n",
      "Requirement already satisfied: jinja2 in /Users/fdurrani/LocalGitHub/legislation_llm/.venv/lib/python3.9/site-packages (from torch>=1.6.0->sentence_transformers) (3.1.2)\n",
      "Requirement already satisfied: regex!=2019.12.17 in /Users/fdurrani/LocalGitHub/legislation_llm/.venv/lib/python3.9/site-packages (from transformers<5.0.0,>=4.6.0->sentence_transformers) (2023.10.3)\n",
      "Requirement already satisfied: tokenizers<0.19,>=0.14 in /Users/fdurrani/LocalGitHub/legislation_llm/.venv/lib/python3.9/site-packages (from transformers<5.0.0,>=4.6.0->sentence_transformers) (0.15.0)\n",
      "Requirement already satisfied: safetensors>=0.3.1 in /Users/fdurrani/LocalGitHub/legislation_llm/.venv/lib/python3.9/site-packages (from transformers<5.0.0,>=4.6.0->sentence_transformers) (0.4.0)\n",
      "Requirement already satisfied: click in /Users/fdurrani/LocalGitHub/legislation_llm/.venv/lib/python3.9/site-packages (from nltk->sentence_transformers) (8.1.7)\n",
      "Requirement already satisfied: joblib in /Users/fdurrani/LocalGitHub/legislation_llm/.venv/lib/python3.9/site-packages (from nltk->sentence_transformers) (1.3.2)\n",
      "Requirement already satisfied: threadpoolctl>=2.0.0 in /Users/fdurrani/LocalGitHub/legislation_llm/.venv/lib/python3.9/site-packages (from scikit-learn->sentence_transformers) (3.2.0)\n",
      "Requirement already satisfied: pillow!=8.3.*,>=5.3.0 in /Users/fdurrani/LocalGitHub/legislation_llm/.venv/lib/python3.9/site-packages (from torchvision->sentence_transformers) (10.1.0)\n",
      "Requirement already satisfied: mypy-extensions>=0.3.0 in /Users/fdurrani/LocalGitHub/legislation_llm/.venv/lib/python3.9/site-packages (from typing-inspect<1,>=0.4.0->dataclasses-json<0.7,>=0.5.7->langchain) (1.0.0)\n",
      "Requirement already satisfied: MarkupSafe>=2.0 in /Users/fdurrani/LocalGitHub/legislation_llm/.venv/lib/python3.9/site-packages (from jinja2->torch>=1.6.0->sentence_transformers) (2.1.3)\n",
      "Requirement already satisfied: mpmath>=0.19 in /Users/fdurrani/LocalGitHub/legislation_llm/.venv/lib/python3.9/site-packages (from sympy->torch>=1.6.0->sentence_transformers) (1.3.0)\n"
     ]
    },
    {
     "name": "stderr",
     "output_type": "stream",
     "text": [
      "/Users/fdurrani/LocalGitHub/legislation_llm/.venv/lib/python3.9/site-packages/tqdm/auto.py:21: TqdmWarning: IProgress not found. Please update jupyter and ipywidgets. See https://ipywidgets.readthedocs.io/en/stable/user_install.html\n",
      "  from .autonotebook import tqdm as notebook_tqdm\n"
     ]
    }
   ],
   "source": [
    "import os\n",
    "import pandas as pd\n",
    "from langchain.text_splitter import RecursiveCharacterTextSplitter\n",
    "from sentence_transformers import SentenceTransformer\n",
    "from tqdm import tqdm\n",
    "from google.cloud.sql.connector import Connector\n",
    "import sqlalchemy\n",
    "\n",
    "\n",
    "model = SentenceTransformer(\"sentence-transformers/all-MiniLM-L6-v2\")"
   ]
  },
  {
   "cell_type": "code",
   "execution_count": 9,
   "metadata": {},
   "outputs": [
    {
     "name": "stderr",
     "output_type": "stream",
     "text": [
      "100%|██████████| 22265/22265 [05:19<00:00, 69.62it/s]\n"
     ]
    }
   ],
   "source": [
    "def get_files(dir_path: list) -> dict:\n",
    "    EXCLUDE_FILES = set([\".gitkeep\"])\n",
    "    files = [file for file in os.listdir(dir_path) if file not in EXCLUDE_FILES]\n",
    "    file_paths = [dir_path + file for file in files]\n",
    "    return pd.DataFrame({\"file_name\": files, \"file_path\": file_paths})\n",
    "\n",
    "\n",
    "def read_file(file_path):\n",
    "    with open(file_path, \"r\") as file:\n",
    "        return file.read()\n",
    "\n",
    "\n",
    "def get_text(db: pd.DataFrame) -> pd.DataFrame:\n",
    "    db[\"text\"] = db[\"file_path\"].apply(read_file)\n",
    "    return db\n",
    "\n",
    "\n",
    "# def get_context(db: pd.DataFrame, overlap: int = 300) -> pd.DataFrame:\n",
    "#     context = []\n",
    "#     for row in db.iterrows():\n",
    "#         i = row[\"chunk\"].metadata[\"start_index\"]\n",
    "#         if i - overlap < 0 or i + overlap > len(row[\"text\"]):\n",
    "#             continue\n",
    "\n",
    "#         context.append(row[\"text\"][i - overlap : i + overlap])\n",
    "\n",
    "#     db[\"context\"] = context\n",
    "#     return db\n",
    "\n",
    "\n",
    "def get_context_for_row(row, chunk_size, overlap):\n",
    "    start_index = row[\"chunk\"].metadata[\"start_index\"]\n",
    "    text_length = len(row[\"text\"])\n",
    "\n",
    "    if start_index - overlap < 0:\n",
    "        return row[\"text\"][start_index : start_index + chunk_size + overlap]\n",
    "    if start_index + chunk_size + overlap > text_length:\n",
    "        return row[\"text\"][start_index - overlap : text_length]\n",
    "\n",
    "    return row[\"text\"][start_index - overlap : start_index + chunk_size + overlap]\n",
    "\n",
    "\n",
    "def get_context(db: pd.DataFrame, chunk_size, overlap: int = 100) -> pd.DataFrame:\n",
    "    # Apply the function to each row of the DataFrame\n",
    "    db[\"context\"] = db.apply(\n",
    "        get_context_for_row, chunk_size=chunk_size, overlap=overlap, axis=1\n",
    "    )\n",
    "    return db\n",
    "\n",
    "\n",
    "def get_chunks(db: pd.DataFrame, text_splitter) -> pd.DataFrame:\n",
    "    db[\"chunk\"] = db[\"text\"].apply(lambda s: text_splitter.create_documents([s]))\n",
    "    return db.explode(\"chunk\")\n",
    "\n",
    "\n",
    "def get_embeddings(db: pd.DataFrame, model) -> pd.DataFrame:\n",
    "    tqdm.pandas()\n",
    "    db[\"embedding\"] = db[\"chunk\"].progress_apply(lambda s: model.encode(s.page_content))\n",
    "    return db\n",
    "\n",
    "\n",
    "def separate_tables(db):\n",
    "    return db[[\"file_name\", \"file_path\", \"text\"]].drop_duplicates(\n",
    "        subset=\"file_name\"\n",
    "    ), db.drop(columns=['file_path', 'text'])\n",
    "\n",
    "\n",
    "def to_postgres():\n",
    "    NotImplemented\n",
    "\n",
    "\n",
    "CHUNK_SIZE = 512\n",
    "\n",
    "text_splitter = RecursiveCharacterTextSplitter(\n",
    "    chunk_size=CHUNK_SIZE,\n",
    "    chunk_overlap=20,\n",
    "    length_function=len,\n",
    "    add_start_index=True,\n",
    ")\n",
    "db = get_files(os.path.join(os.getcwd(), \"../backend/data/legislations/\"))\n",
    "db = get_text(db)\n",
    "db = get_chunks(db, text_splitter)\n",
    "db = get_context(db, CHUNK_SIZE)\n",
    "db = get_embeddings(db, model)\n",
    "text_db, vector_db = separate_tables(db)\n",
    "#to_postgres(vector_db)"
   ]
  },
  {
   "cell_type": "code",
   "execution_count": 14,
   "metadata": {},
   "outputs": [],
   "source": [
    "# i.e demo-project:us-central1:demo-instance\n",
    "INSTANCE_CONNECTION_NAME = %env INSTANCE_CONNECTION_NAME  \n",
    "DB_USER = %env DB_USER\n",
    "DB_PASS = %env DB_PASS\n",
    "DB_NAME = %env DB_NAME"
   ]
  },
  {
   "cell_type": "code",
   "execution_count": 60,
   "metadata": {},
   "outputs": [
    {
     "name": "stderr",
     "output_type": "stream",
     "text": [
      "huggingface/tokenizers: The current process just got forked, after parallelism has already been used. Disabling parallelism to avoid deadlocks...\n",
      "To disable this warning, you can either:\n",
      "\t- Avoid using `tokenizers` before the fork if possible\n",
      "\t- Explicitly set the environment variable TOKENIZERS_PARALLELISM=(true | false)\n"
     ]
    },
    {
     "name": "stdout",
     "output_type": "stream",
     "text": [
      "Requirement already satisfied: cloud-sql-python-connector in /Users/fdurrani/LocalGitHub/legislation_llm/.venv/lib/python3.9/site-packages (1.4.3)\n",
      "Requirement already satisfied: sqlalchemy in /Users/fdurrani/LocalGitHub/legislation_llm/.venv/lib/python3.9/site-packages (2.0.23)\n",
      "Requirement already satisfied: pg8000 in /Users/fdurrani/LocalGitHub/legislation_llm/.venv/lib/python3.9/site-packages (1.30.3)\n",
      "Requirement already satisfied: aiohttp in /Users/fdurrani/LocalGitHub/legislation_llm/.venv/lib/python3.9/site-packages (from cloud-sql-python-connector) (3.9.0)\n",
      "Requirement already satisfied: cryptography>=38.0.3 in /Users/fdurrani/LocalGitHub/legislation_llm/.venv/lib/python3.9/site-packages (from cloud-sql-python-connector) (41.0.5)\n",
      "Requirement already satisfied: Requests in /Users/fdurrani/LocalGitHub/legislation_llm/.venv/lib/python3.9/site-packages (from cloud-sql-python-connector) (2.31.0)\n",
      "Requirement already satisfied: google-auth in /Users/fdurrani/LocalGitHub/legislation_llm/.venv/lib/python3.9/site-packages (from cloud-sql-python-connector) (2.23.4)\n",
      "Requirement already satisfied: typing-extensions>=4.2.0 in /Users/fdurrani/LocalGitHub/legislation_llm/.venv/lib/python3.9/site-packages (from sqlalchemy) (4.8.0)\n",
      "Requirement already satisfied: scramp>=1.4.4 in /Users/fdurrani/LocalGitHub/legislation_llm/.venv/lib/python3.9/site-packages (from pg8000) (1.4.4)\n",
      "Requirement already satisfied: python-dateutil>=2.8.2 in /Users/fdurrani/LocalGitHub/legislation_llm/.venv/lib/python3.9/site-packages (from pg8000) (2.8.2)\n",
      "Requirement already satisfied: cffi>=1.12 in /Users/fdurrani/LocalGitHub/legislation_llm/.venv/lib/python3.9/site-packages (from cryptography>=38.0.3->cloud-sql-python-connector) (1.16.0)\n",
      "Requirement already satisfied: six>=1.5 in /Users/fdurrani/LocalGitHub/legislation_llm/.venv/lib/python3.9/site-packages (from python-dateutil>=2.8.2->pg8000) (1.16.0)\n",
      "Requirement already satisfied: asn1crypto>=1.5.1 in /Users/fdurrani/LocalGitHub/legislation_llm/.venv/lib/python3.9/site-packages (from scramp>=1.4.4->pg8000) (1.5.1)\n",
      "Requirement already satisfied: attrs>=17.3.0 in /Users/fdurrani/LocalGitHub/legislation_llm/.venv/lib/python3.9/site-packages (from aiohttp->cloud-sql-python-connector) (23.1.0)\n",
      "Requirement already satisfied: multidict<7.0,>=4.5 in /Users/fdurrani/LocalGitHub/legislation_llm/.venv/lib/python3.9/site-packages (from aiohttp->cloud-sql-python-connector) (6.0.4)\n",
      "Requirement already satisfied: yarl<2.0,>=1.0 in /Users/fdurrani/LocalGitHub/legislation_llm/.venv/lib/python3.9/site-packages (from aiohttp->cloud-sql-python-connector) (1.9.2)\n",
      "Requirement already satisfied: frozenlist>=1.1.1 in /Users/fdurrani/LocalGitHub/legislation_llm/.venv/lib/python3.9/site-packages (from aiohttp->cloud-sql-python-connector) (1.4.0)\n",
      "Requirement already satisfied: aiosignal>=1.1.2 in /Users/fdurrani/LocalGitHub/legislation_llm/.venv/lib/python3.9/site-packages (from aiohttp->cloud-sql-python-connector) (1.3.1)\n",
      "Requirement already satisfied: async-timeout<5.0,>=4.0 in /Users/fdurrani/LocalGitHub/legislation_llm/.venv/lib/python3.9/site-packages (from aiohttp->cloud-sql-python-connector) (4.0.3)\n",
      "Requirement already satisfied: cachetools<6.0,>=2.0.0 in /Users/fdurrani/LocalGitHub/legislation_llm/.venv/lib/python3.9/site-packages (from google-auth->cloud-sql-python-connector) (5.3.2)\n",
      "Requirement already satisfied: pyasn1-modules>=0.2.1 in /Users/fdurrani/LocalGitHub/legislation_llm/.venv/lib/python3.9/site-packages (from google-auth->cloud-sql-python-connector) (0.3.0)\n",
      "Requirement already satisfied: rsa<5,>=3.1.4 in /Users/fdurrani/LocalGitHub/legislation_llm/.venv/lib/python3.9/site-packages (from google-auth->cloud-sql-python-connector) (4.9)\n",
      "Requirement already satisfied: charset-normalizer<4,>=2 in /Users/fdurrani/LocalGitHub/legislation_llm/.venv/lib/python3.9/site-packages (from Requests->cloud-sql-python-connector) (3.3.2)\n",
      "Requirement already satisfied: idna<4,>=2.5 in /Users/fdurrani/LocalGitHub/legislation_llm/.venv/lib/python3.9/site-packages (from Requests->cloud-sql-python-connector) (3.4)\n",
      "Requirement already satisfied: urllib3<3,>=1.21.1 in /Users/fdurrani/LocalGitHub/legislation_llm/.venv/lib/python3.9/site-packages (from Requests->cloud-sql-python-connector) (2.1.0)\n",
      "Requirement already satisfied: certifi>=2017.4.17 in /Users/fdurrani/LocalGitHub/legislation_llm/.venv/lib/python3.9/site-packages (from Requests->cloud-sql-python-connector) (2023.11.17)\n",
      "Requirement already satisfied: pycparser in /Users/fdurrani/LocalGitHub/legislation_llm/.venv/lib/python3.9/site-packages (from cffi>=1.12->cryptography>=38.0.3->cloud-sql-python-connector) (2.21)\n",
      "Requirement already satisfied: pyasn1<0.6.0,>=0.4.6 in /Users/fdurrani/LocalGitHub/legislation_llm/.venv/lib/python3.9/site-packages (from pyasn1-modules>=0.2.1->google-auth->cloud-sql-python-connector) (0.5.0)\n"
     ]
    }
   ],
   "source": [
    "# initialize Connector object\n",
    "connector = Connector()\n",
    "\n",
    "# function to return the database connection object\n",
    "def getconn():\n",
    "    conn = connector.connect(\n",
    "        INSTANCE_CONNECTION_NAME, \"pg8000\", user=DB_USER, password=DB_PASS, db=DB_NAME\n",
    "    )\n",
    "    return conn\n",
    "\n",
    "\n",
    "# create connection pool with 'creator' argument to our connection object function\n",
    "pool = sqlalchemy.create_engine(\n",
    "    \"postgresql+pg8000://\",\n",
    "    creator=getconn,\n",
    ")"
   ]
  },
  {
   "cell_type": "code",
   "execution_count": 65,
   "metadata": {},
   "outputs": [
    {
     "name": "stdout",
     "output_type": "stream",
     "text": [
      "[(5829,)]\n"
     ]
    }
   ],
   "source": [
    "with pool.connect() as db_conn:\n",
    "    # db_conn.execute(sqlalchemy.text(\"CREATE TABLE * FROM legislation_vector_db_001\"))\n",
    "    results = db_conn.execute(sqlalchemy.text(\"SELECT count(*) FROM legislation_vector_db_003\")).fetchall()\n",
    "    print(results)"
   ]
  },
  {
   "cell_type": "code",
   "execution_count": 64,
   "metadata": {},
   "outputs": [
    {
     "name": "stdout",
     "output_type": "stream",
     "text": [
      "inserting entries...\n"
     ]
    },
    {
     "name": "stderr",
     "output_type": "stream",
     "text": [
      "100%|██████████| 56/56 [10:46<00:00, 11.54s/it]\n"
     ]
    },
    {
     "ename": "KeyboardInterrupt",
     "evalue": "",
     "output_type": "error",
     "traceback": [
      "\u001b[0;31m---------------------------------------------------------------------------\u001b[0m",
      "\u001b[0;31mKeyboardInterrupt\u001b[0m                         Traceback (most recent call last)",
      "\u001b[1;32m/Users/fdurrani/LocalGitHub/legislation_llm/pipeline/pull_data.ipynb Cell 12\u001b[0m line \u001b[0;36m5\n\u001b[1;32m     <a href='vscode-notebook-cell:/Users/fdurrani/LocalGitHub/legislation_llm/pipeline/pull_data.ipynb#X20sZmlsZQ%3D%3D?line=50'>51</a>\u001b[0m db_conn\u001b[39m.\u001b[39mcommit()\n\u001b[1;32m     <a href='vscode-notebook-cell:/Users/fdurrani/LocalGitHub/legislation_llm/pipeline/pull_data.ipynb#X20sZmlsZQ%3D%3D?line=52'>53</a>\u001b[0m \u001b[39m# query and fetch ratings table\u001b[39;00m\n\u001b[0;32m---> <a href='vscode-notebook-cell:/Users/fdurrani/LocalGitHub/legislation_llm/pipeline/pull_data.ipynb#X20sZmlsZQ%3D%3D?line=53'>54</a>\u001b[0m results \u001b[39m=\u001b[39m db_conn\u001b[39m.\u001b[39;49mexecute(sqlalchemy\u001b[39m.\u001b[39;49mtext(\u001b[39mf\u001b[39;49m\u001b[39m\"\u001b[39;49m\u001b[39mSELECT * FROM \u001b[39;49m\u001b[39m{\u001b[39;49;00mTABLE_NAME\u001b[39m}\u001b[39;49;00m\u001b[39m\"\u001b[39;49m))\u001b[39m.\u001b[39mfetchall()\n\u001b[1;32m     <a href='vscode-notebook-cell:/Users/fdurrani/LocalGitHub/legislation_llm/pipeline/pull_data.ipynb#X20sZmlsZQ%3D%3D?line=55'>56</a>\u001b[0m \u001b[39m# show results\u001b[39;00m\n\u001b[1;32m     <a href='vscode-notebook-cell:/Users/fdurrani/LocalGitHub/legislation_llm/pipeline/pull_data.ipynb#X20sZmlsZQ%3D%3D?line=56'>57</a>\u001b[0m \u001b[39mprint\u001b[39m(\u001b[39mlen\u001b[39m(results))\n",
      "File \u001b[0;32m~/LocalGitHub/legislation_llm/.venv/lib/python3.9/site-packages/sqlalchemy/engine/base.py:1416\u001b[0m, in \u001b[0;36mConnection.execute\u001b[0;34m(self, statement, parameters, execution_options)\u001b[0m\n\u001b[1;32m   1414\u001b[0m     \u001b[39mraise\u001b[39;00m exc\u001b[39m.\u001b[39mObjectNotExecutableError(statement) \u001b[39mfrom\u001b[39;00m \u001b[39merr\u001b[39;00m\n\u001b[1;32m   1415\u001b[0m \u001b[39melse\u001b[39;00m:\n\u001b[0;32m-> 1416\u001b[0m     \u001b[39mreturn\u001b[39;00m meth(\n\u001b[1;32m   1417\u001b[0m         \u001b[39mself\u001b[39;49m,\n\u001b[1;32m   1418\u001b[0m         distilled_parameters,\n\u001b[1;32m   1419\u001b[0m         execution_options \u001b[39mor\u001b[39;49;00m NO_OPTIONS,\n\u001b[1;32m   1420\u001b[0m     )\n",
      "File \u001b[0;32m~/LocalGitHub/legislation_llm/.venv/lib/python3.9/site-packages/sqlalchemy/sql/elements.py:516\u001b[0m, in \u001b[0;36mClauseElement._execute_on_connection\u001b[0;34m(self, connection, distilled_params, execution_options)\u001b[0m\n\u001b[1;32m    514\u001b[0m     \u001b[39mif\u001b[39;00m TYPE_CHECKING:\n\u001b[1;32m    515\u001b[0m         \u001b[39massert\u001b[39;00m \u001b[39misinstance\u001b[39m(\u001b[39mself\u001b[39m, Executable)\n\u001b[0;32m--> 516\u001b[0m     \u001b[39mreturn\u001b[39;00m connection\u001b[39m.\u001b[39;49m_execute_clauseelement(\n\u001b[1;32m    517\u001b[0m         \u001b[39mself\u001b[39;49m, distilled_params, execution_options\n\u001b[1;32m    518\u001b[0m     )\n\u001b[1;32m    519\u001b[0m \u001b[39melse\u001b[39;00m:\n\u001b[1;32m    520\u001b[0m     \u001b[39mraise\u001b[39;00m exc\u001b[39m.\u001b[39mObjectNotExecutableError(\u001b[39mself\u001b[39m)\n",
      "File \u001b[0;32m~/LocalGitHub/legislation_llm/.venv/lib/python3.9/site-packages/sqlalchemy/engine/base.py:1639\u001b[0m, in \u001b[0;36mConnection._execute_clauseelement\u001b[0;34m(self, elem, distilled_parameters, execution_options)\u001b[0m\n\u001b[1;32m   1627\u001b[0m compiled_cache: Optional[CompiledCacheType] \u001b[39m=\u001b[39m execution_options\u001b[39m.\u001b[39mget(\n\u001b[1;32m   1628\u001b[0m     \u001b[39m\"\u001b[39m\u001b[39mcompiled_cache\u001b[39m\u001b[39m\"\u001b[39m, \u001b[39mself\u001b[39m\u001b[39m.\u001b[39mengine\u001b[39m.\u001b[39m_compiled_cache\n\u001b[1;32m   1629\u001b[0m )\n\u001b[1;32m   1631\u001b[0m compiled_sql, extracted_params, cache_hit \u001b[39m=\u001b[39m elem\u001b[39m.\u001b[39m_compile_w_cache(\n\u001b[1;32m   1632\u001b[0m     dialect\u001b[39m=\u001b[39mdialect,\n\u001b[1;32m   1633\u001b[0m     compiled_cache\u001b[39m=\u001b[39mcompiled_cache,\n\u001b[0;32m   (...)\u001b[0m\n\u001b[1;32m   1637\u001b[0m     linting\u001b[39m=\u001b[39m\u001b[39mself\u001b[39m\u001b[39m.\u001b[39mdialect\u001b[39m.\u001b[39mcompiler_linting \u001b[39m|\u001b[39m compiler\u001b[39m.\u001b[39mWARN_LINTING,\n\u001b[1;32m   1638\u001b[0m )\n\u001b[0;32m-> 1639\u001b[0m ret \u001b[39m=\u001b[39m \u001b[39mself\u001b[39;49m\u001b[39m.\u001b[39;49m_execute_context(\n\u001b[1;32m   1640\u001b[0m     dialect,\n\u001b[1;32m   1641\u001b[0m     dialect\u001b[39m.\u001b[39;49mexecution_ctx_cls\u001b[39m.\u001b[39;49m_init_compiled,\n\u001b[1;32m   1642\u001b[0m     compiled_sql,\n\u001b[1;32m   1643\u001b[0m     distilled_parameters,\n\u001b[1;32m   1644\u001b[0m     execution_options,\n\u001b[1;32m   1645\u001b[0m     compiled_sql,\n\u001b[1;32m   1646\u001b[0m     distilled_parameters,\n\u001b[1;32m   1647\u001b[0m     elem,\n\u001b[1;32m   1648\u001b[0m     extracted_params,\n\u001b[1;32m   1649\u001b[0m     cache_hit\u001b[39m=\u001b[39;49mcache_hit,\n\u001b[1;32m   1650\u001b[0m )\n\u001b[1;32m   1651\u001b[0m \u001b[39mif\u001b[39;00m has_events:\n\u001b[1;32m   1652\u001b[0m     \u001b[39mself\u001b[39m\u001b[39m.\u001b[39mdispatch\u001b[39m.\u001b[39mafter_execute(\n\u001b[1;32m   1653\u001b[0m         \u001b[39mself\u001b[39m,\n\u001b[1;32m   1654\u001b[0m         elem,\n\u001b[0;32m   (...)\u001b[0m\n\u001b[1;32m   1658\u001b[0m         ret,\n\u001b[1;32m   1659\u001b[0m     )\n",
      "File \u001b[0;32m~/LocalGitHub/legislation_llm/.venv/lib/python3.9/site-packages/sqlalchemy/engine/base.py:1848\u001b[0m, in \u001b[0;36mConnection._execute_context\u001b[0;34m(self, dialect, constructor, statement, parameters, execution_options, *args, **kw)\u001b[0m\n\u001b[1;32m   1843\u001b[0m     \u001b[39mreturn\u001b[39;00m \u001b[39mself\u001b[39m\u001b[39m.\u001b[39m_exec_insertmany_context(\n\u001b[1;32m   1844\u001b[0m         dialect,\n\u001b[1;32m   1845\u001b[0m         context,\n\u001b[1;32m   1846\u001b[0m     )\n\u001b[1;32m   1847\u001b[0m \u001b[39melse\u001b[39;00m:\n\u001b[0;32m-> 1848\u001b[0m     \u001b[39mreturn\u001b[39;00m \u001b[39mself\u001b[39;49m\u001b[39m.\u001b[39;49m_exec_single_context(\n\u001b[1;32m   1849\u001b[0m         dialect, context, statement, parameters\n\u001b[1;32m   1850\u001b[0m     )\n",
      "File \u001b[0;32m~/LocalGitHub/legislation_llm/.venv/lib/python3.9/site-packages/sqlalchemy/engine/base.py:1988\u001b[0m, in \u001b[0;36mConnection._exec_single_context\u001b[0;34m(self, dialect, context, statement, parameters)\u001b[0m\n\u001b[1;32m   1985\u001b[0m     result \u001b[39m=\u001b[39m context\u001b[39m.\u001b[39m_setup_result_proxy()\n\u001b[1;32m   1987\u001b[0m \u001b[39mexcept\u001b[39;00m \u001b[39mBaseException\u001b[39;00m \u001b[39mas\u001b[39;00m e:\n\u001b[0;32m-> 1988\u001b[0m     \u001b[39mself\u001b[39;49m\u001b[39m.\u001b[39;49m_handle_dbapi_exception(\n\u001b[1;32m   1989\u001b[0m         e, str_statement, effective_parameters, cursor, context\n\u001b[1;32m   1990\u001b[0m     )\n\u001b[1;32m   1992\u001b[0m \u001b[39mreturn\u001b[39;00m result\n",
      "File \u001b[0;32m~/LocalGitHub/legislation_llm/.venv/lib/python3.9/site-packages/sqlalchemy/engine/base.py:2346\u001b[0m, in \u001b[0;36mConnection._handle_dbapi_exception\u001b[0;34m(self, e, statement, parameters, cursor, context, is_sub_exec)\u001b[0m\n\u001b[1;32m   2344\u001b[0m     \u001b[39melse\u001b[39;00m:\n\u001b[1;32m   2345\u001b[0m         \u001b[39massert\u001b[39;00m exc_info[\u001b[39m1\u001b[39m] \u001b[39mis\u001b[39;00m \u001b[39mnot\u001b[39;00m \u001b[39mNone\u001b[39;00m\n\u001b[0;32m-> 2346\u001b[0m         \u001b[39mraise\u001b[39;00m exc_info[\u001b[39m1\u001b[39m]\u001b[39m.\u001b[39mwith_traceback(exc_info[\u001b[39m2\u001b[39m])\n\u001b[1;32m   2347\u001b[0m \u001b[39mfinally\u001b[39;00m:\n\u001b[1;32m   2348\u001b[0m     \u001b[39mdel\u001b[39;00m \u001b[39mself\u001b[39m\u001b[39m.\u001b[39m_reentrant_error\n",
      "File \u001b[0;32m~/LocalGitHub/legislation_llm/.venv/lib/python3.9/site-packages/sqlalchemy/engine/base.py:1969\u001b[0m, in \u001b[0;36mConnection._exec_single_context\u001b[0;34m(self, dialect, context, statement, parameters)\u001b[0m\n\u001b[1;32m   1967\u001b[0m                 \u001b[39mbreak\u001b[39;00m\n\u001b[1;32m   1968\u001b[0m     \u001b[39mif\u001b[39;00m \u001b[39mnot\u001b[39;00m evt_handled:\n\u001b[0;32m-> 1969\u001b[0m         \u001b[39mself\u001b[39;49m\u001b[39m.\u001b[39;49mdialect\u001b[39m.\u001b[39;49mdo_execute(\n\u001b[1;32m   1970\u001b[0m             cursor, str_statement, effective_parameters, context\n\u001b[1;32m   1971\u001b[0m         )\n\u001b[1;32m   1973\u001b[0m \u001b[39mif\u001b[39;00m \u001b[39mself\u001b[39m\u001b[39m.\u001b[39m_has_events \u001b[39mor\u001b[39;00m \u001b[39mself\u001b[39m\u001b[39m.\u001b[39mengine\u001b[39m.\u001b[39m_has_events:\n\u001b[1;32m   1974\u001b[0m     \u001b[39mself\u001b[39m\u001b[39m.\u001b[39mdispatch\u001b[39m.\u001b[39mafter_cursor_execute(\n\u001b[1;32m   1975\u001b[0m         \u001b[39mself\u001b[39m,\n\u001b[1;32m   1976\u001b[0m         cursor,\n\u001b[0;32m   (...)\u001b[0m\n\u001b[1;32m   1980\u001b[0m         context\u001b[39m.\u001b[39mexecutemany,\n\u001b[1;32m   1981\u001b[0m     )\n",
      "File \u001b[0;32m~/LocalGitHub/legislation_llm/.venv/lib/python3.9/site-packages/sqlalchemy/engine/default.py:922\u001b[0m, in \u001b[0;36mDefaultDialect.do_execute\u001b[0;34m(self, cursor, statement, parameters, context)\u001b[0m\n\u001b[1;32m    921\u001b[0m \u001b[39mdef\u001b[39;00m \u001b[39mdo_execute\u001b[39m(\u001b[39mself\u001b[39m, cursor, statement, parameters, context\u001b[39m=\u001b[39m\u001b[39mNone\u001b[39;00m):\n\u001b[0;32m--> 922\u001b[0m     cursor\u001b[39m.\u001b[39;49mexecute(statement, parameters)\n",
      "File \u001b[0;32m~/LocalGitHub/legislation_llm/.venv/lib/python3.9/site-packages/pg8000/dbapi.py:468\u001b[0m, in \u001b[0;36mCursor.execute\u001b[0;34m(self, operation, args, stream)\u001b[0m\n\u001b[1;32m    465\u001b[0m     \u001b[39mself\u001b[39m\u001b[39m.\u001b[39m_c\u001b[39m.\u001b[39mexecute_simple(\u001b[39m\"\u001b[39m\u001b[39mbegin transaction\u001b[39m\u001b[39m\"\u001b[39m)\n\u001b[1;32m    467\u001b[0m \u001b[39mif\u001b[39;00m \u001b[39mlen\u001b[39m(args) \u001b[39m==\u001b[39m \u001b[39m0\u001b[39m \u001b[39mand\u001b[39;00m stream \u001b[39mis\u001b[39;00m \u001b[39mNone\u001b[39;00m:\n\u001b[0;32m--> 468\u001b[0m     \u001b[39mself\u001b[39m\u001b[39m.\u001b[39m_context \u001b[39m=\u001b[39m \u001b[39mself\u001b[39;49m\u001b[39m.\u001b[39;49m_c\u001b[39m.\u001b[39;49mexecute_simple(operation)\n\u001b[1;32m    469\u001b[0m \u001b[39melse\u001b[39;00m:\n\u001b[1;32m    470\u001b[0m     statement, vals \u001b[39m=\u001b[39m convert_paramstyle(paramstyle, operation, args)\n",
      "File \u001b[0;32m~/LocalGitHub/legislation_llm/.venv/lib/python3.9/site-packages/pg8000/core.py:678\u001b[0m, in \u001b[0;36mCoreConnection.execute_simple\u001b[0;34m(self, statement)\u001b[0m\n\u001b[1;32m    676\u001b[0m \u001b[39mself\u001b[39m\u001b[39m.\u001b[39msend_QUERY(statement)\n\u001b[1;32m    677\u001b[0m _flush(\u001b[39mself\u001b[39m\u001b[39m.\u001b[39m_sock)\n\u001b[0;32m--> 678\u001b[0m \u001b[39mself\u001b[39;49m\u001b[39m.\u001b[39;49mhandle_messages(context)\n\u001b[1;32m    680\u001b[0m \u001b[39mreturn\u001b[39;00m context\n",
      "File \u001b[0;32m~/LocalGitHub/legislation_llm/.venv/lib/python3.9/site-packages/pg8000/core.py:824\u001b[0m, in \u001b[0;36mCoreConnection.handle_messages\u001b[0;34m(self, context)\u001b[0m\n\u001b[1;32m    821\u001b[0m \u001b[39mwhile\u001b[39;00m code \u001b[39m!=\u001b[39m READY_FOR_QUERY:\n\u001b[1;32m    822\u001b[0m     code, data_len \u001b[39m=\u001b[39m ci_unpack(_read(\u001b[39mself\u001b[39m\u001b[39m.\u001b[39m_sock, \u001b[39m5\u001b[39m))\n\u001b[0;32m--> 824\u001b[0m     \u001b[39mself\u001b[39m\u001b[39m.\u001b[39mmessage_types[code](_read(\u001b[39mself\u001b[39;49m\u001b[39m.\u001b[39;49m_sock, data_len \u001b[39m-\u001b[39;49m \u001b[39m4\u001b[39;49m), context)\n\u001b[1;32m    826\u001b[0m \u001b[39mif\u001b[39;00m context\u001b[39m.\u001b[39merror \u001b[39mis\u001b[39;00m \u001b[39mnot\u001b[39;00m \u001b[39mNone\u001b[39;00m:\n\u001b[1;32m    827\u001b[0m     \u001b[39mraise\u001b[39;00m context\u001b[39m.\u001b[39merror\n",
      "File \u001b[0;32m~/LocalGitHub/legislation_llm/.venv/lib/python3.9/site-packages/pg8000/core.py:154\u001b[0m, in \u001b[0;36m_read\u001b[0;34m(sock, size)\u001b[0m\n\u001b[1;32m    152\u001b[0m \u001b[39mtry\u001b[39;00m:\n\u001b[1;32m    153\u001b[0m     \u001b[39mwhile\u001b[39;00m got \u001b[39m<\u001b[39m size:\n\u001b[0;32m--> 154\u001b[0m         block \u001b[39m=\u001b[39m sock\u001b[39m.\u001b[39;49mread(size \u001b[39m-\u001b[39;49m got)\n\u001b[1;32m    155\u001b[0m         \u001b[39mif\u001b[39;00m block \u001b[39m==\u001b[39m \u001b[39mb\u001b[39m\u001b[39m\"\u001b[39m\u001b[39m\"\u001b[39m:\n\u001b[1;32m    156\u001b[0m             \u001b[39mraise\u001b[39;00m InterfaceError(\u001b[39m\"\u001b[39m\u001b[39mnetwork error\u001b[39m\u001b[39m\"\u001b[39m)\n",
      "File \u001b[0;32m~/.pyenv/versions/3.9.17/lib/python3.9/socket.py:704\u001b[0m, in \u001b[0;36mSocketIO.readinto\u001b[0;34m(self, b)\u001b[0m\n\u001b[1;32m    702\u001b[0m \u001b[39mwhile\u001b[39;00m \u001b[39mTrue\u001b[39;00m:\n\u001b[1;32m    703\u001b[0m     \u001b[39mtry\u001b[39;00m:\n\u001b[0;32m--> 704\u001b[0m         \u001b[39mreturn\u001b[39;00m \u001b[39mself\u001b[39;49m\u001b[39m.\u001b[39;49m_sock\u001b[39m.\u001b[39;49mrecv_into(b)\n\u001b[1;32m    705\u001b[0m     \u001b[39mexcept\u001b[39;00m timeout:\n\u001b[1;32m    706\u001b[0m         \u001b[39mself\u001b[39m\u001b[39m.\u001b[39m_timeout_occurred \u001b[39m=\u001b[39m \u001b[39mTrue\u001b[39;00m\n",
      "File \u001b[0;32m~/.pyenv/versions/3.9.17/lib/python3.9/ssl.py:1242\u001b[0m, in \u001b[0;36mSSLSocket.recv_into\u001b[0;34m(self, buffer, nbytes, flags)\u001b[0m\n\u001b[1;32m   1238\u001b[0m     \u001b[39mif\u001b[39;00m flags \u001b[39m!=\u001b[39m \u001b[39m0\u001b[39m:\n\u001b[1;32m   1239\u001b[0m         \u001b[39mraise\u001b[39;00m \u001b[39mValueError\u001b[39;00m(\n\u001b[1;32m   1240\u001b[0m           \u001b[39m\"\u001b[39m\u001b[39mnon-zero flags not allowed in calls to recv_into() on \u001b[39m\u001b[39m%s\u001b[39;00m\u001b[39m\"\u001b[39m \u001b[39m%\u001b[39m\n\u001b[1;32m   1241\u001b[0m           \u001b[39mself\u001b[39m\u001b[39m.\u001b[39m\u001b[39m__class__\u001b[39m)\n\u001b[0;32m-> 1242\u001b[0m     \u001b[39mreturn\u001b[39;00m \u001b[39mself\u001b[39;49m\u001b[39m.\u001b[39;49mread(nbytes, buffer)\n\u001b[1;32m   1243\u001b[0m \u001b[39melse\u001b[39;00m:\n\u001b[1;32m   1244\u001b[0m     \u001b[39mreturn\u001b[39;00m \u001b[39msuper\u001b[39m()\u001b[39m.\u001b[39mrecv_into(buffer, nbytes, flags)\n",
      "File \u001b[0;32m~/.pyenv/versions/3.9.17/lib/python3.9/ssl.py:1100\u001b[0m, in \u001b[0;36mSSLSocket.read\u001b[0;34m(self, len, buffer)\u001b[0m\n\u001b[1;32m   1098\u001b[0m \u001b[39mtry\u001b[39;00m:\n\u001b[1;32m   1099\u001b[0m     \u001b[39mif\u001b[39;00m buffer \u001b[39mis\u001b[39;00m \u001b[39mnot\u001b[39;00m \u001b[39mNone\u001b[39;00m:\n\u001b[0;32m-> 1100\u001b[0m         \u001b[39mreturn\u001b[39;00m \u001b[39mself\u001b[39;49m\u001b[39m.\u001b[39;49m_sslobj\u001b[39m.\u001b[39;49mread(\u001b[39mlen\u001b[39;49m, buffer)\n\u001b[1;32m   1101\u001b[0m     \u001b[39melse\u001b[39;00m:\n\u001b[1;32m   1102\u001b[0m         \u001b[39mreturn\u001b[39;00m \u001b[39mself\u001b[39m\u001b[39m.\u001b[39m_sslobj\u001b[39m.\u001b[39mread(\u001b[39mlen\u001b[39m)\n",
      "\u001b[0;31mKeyboardInterrupt\u001b[0m: "
     ]
    }
   ],
   "source": [
    "TABLE_NAME = \"legislation_vector_db_003\"\n",
    "from tqdm import tqdm\n",
    "\n",
    "def create_insert_list():\n",
    "  insert_list = []\n",
    "  for row in vector_db.iterrows():\n",
    "    insert_list.append(\n",
    "      {\"file_name\": f\"{row[1]['file_name']}\",\n",
    "      \"chunk\": f\"\"\"{row[1]['chunk'].page_content.replace(\"'\", \"''\")}\"\"\",\n",
    "      \"context\": f\"\"\"{row[1]['context'].replace(\"'\", \"''\")}\"\"\", \n",
    "      \"embedding\": f\"{str(list(row[1]['embedding']))}\"}\n",
    "    )\n",
    "  return insert_list\n",
    "\n",
    "# connect to connection pool\n",
    "with pool.connect() as db_conn:\n",
    "  print(\"creating table\")\n",
    "  db_conn.execute(\n",
    "    sqlalchemy.text(\n",
    "      f\"\"\"CREATE TABLE IF NOT EXISTS {TABLE_NAME}\n",
    "      (file_name VARCHAR NOT NULL,\n",
    "      chunk VARCHAR NOT NULL,\n",
    "      context VARCHAR NOT NULL,\n",
    "      embedding VECTOR NOT NULL);\"\"\"\n",
    "    )\n",
    "  )\n",
    "\n",
    "  # # commit transaction (SQLAlchemy v2.X.X is commit as you go)\n",
    "  # db_conn.commit()\n",
    "\n",
    "  # insert data into our ratings table\n",
    "  insert_stmt = sqlalchemy.text(\n",
    "      f\"INSERT INTO {TABLE_NAME} (file_name, chunk, context, embedding) VALUES (:file_name, :chunk, :context, :embedding);\"\n",
    "  )\n",
    "\n",
    "  insert_list = create_insert_list()\n",
    "\n",
    "  # insert entries into table\n",
    "  print(\"inserting entries\")\n",
    "  for batch in tqdm(range(0, len(insert_list), 100)):\n",
    "    db_conn.execute(insert_stmt, insert_list[batch:batch+100])\n",
    "  \n",
    "  # commit transactions\n",
    "  print(\"committing entries\")\n",
    "  db_conn.commit()\n",
    "\n",
    "  # query and fetch ratings table\n",
    "  results = db_conn.execute(sqlalchemy.text(f\"SELECT count(*) FROM {TABLE_NAME}\")).fetchall()\n",
    "\n",
    "  # show results\n",
    "  print(len(results))\n",
    "  print(results[0])"
   ]
  }
 ],
 "metadata": {
  "kernelspec": {
   "display_name": "legislation-llm",
   "language": "python",
   "name": "python3"
  },
  "language_info": {
   "codemirror_mode": {
    "name": "ipython",
    "version": 3
   },
   "file_extension": ".py",
   "mimetype": "text/x-python",
   "name": "python",
   "nbconvert_exporter": "python",
   "pygments_lexer": "ipython3",
   "version": "3.11.4"
  }
 },
 "nbformat": 4,
 "nbformat_minor": 2
}
